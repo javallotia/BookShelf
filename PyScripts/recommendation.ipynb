{
 "cells": [
  {
   "cell_type": "code",
   "execution_count": 1,
   "id": "0a2508a7-3d91-449b-a1d1-147af5e30869",
   "metadata": {},
   "outputs": [],
   "source": [
    "liked_books = [\"4408\", \"31147619\", \"29983711\", \"9401317\", \"9317691\", \"8153988\", \"20494944\"]"
   ]
  },
  {
   "cell_type": "code",
   "execution_count": 2,
   "id": "b9cf50bc-a685-4e01-b211-3116d23a22e7",
   "metadata": {},
   "outputs": [
    {
     "name": "stdout",
     "output_type": "stream",
     "text": [
      "book_id_csv,book_id\n",
      "0,34684622\n",
      "1,34536488\n",
      "2,34017076\n",
      "3,71730\n",
      "4,30422361\n",
      "5,33503613\n",
      "6,33517540\n",
      "7,34467031\n",
      "8,6383669\n"
     ]
    }
   ],
   "source": [
    "%alias head powershell -command \"& {Get-Content %s -Head 10}\"\n",
    "%head book_id_map.csv"
   ]
  },
  {
   "cell_type": "code",
   "execution_count": 3,
   "id": "c9c7f737-0a08-4bed-ad48-bf374b58edf1",
   "metadata": {},
   "outputs": [],
   "source": [
    "def show_image(val):\n",
    "    return '<a href=\"{}\"><img src=\"{}\" width=50></img></a>'.format(val, val)"
   ]
  },
  {
   "cell_type": "code",
   "execution_count": 4,
   "id": "1be39c40-651b-4f1a-8097-f9842eca4282",
   "metadata": {},
   "outputs": [],
   "source": [
    "csv_book_mapping = {}\n",
    "\n",
    "with open(\"book_id_map.csv\", \"r\") as f:\n",
    "    while True:\n",
    "        line = f.readline()\n",
    "        if not line:\n",
    "            break\n",
    "        csv_id, book_id = line.strip().split(\",\")\n",
    "        csv_book_mapping[csv_id] = book_id"
   ]
  },
  {
   "cell_type": "code",
   "execution_count": 5,
   "id": "d1881322-1e84-4615-a83d-8c906ea984da",
   "metadata": {},
   "outputs": [
    {
     "data": {
      "text/plain": [
       "'34684622'"
      ]
     },
     "execution_count": 5,
     "metadata": {},
     "output_type": "execute_result"
    }
   ],
   "source": [
    "csv_book_mapping['0']"
   ]
  },
  {
   "cell_type": "code",
   "execution_count": 6,
   "id": "f2836fab-c174-4730-b0c3-3b2fbd4f0554",
   "metadata": {},
   "outputs": [],
   "source": [
    "overlap_users = set()\n",
    "\n",
    "with open(\"interactions.csv\", 'r') as f:\n",
    "    while True:\n",
    "        line = f.readline()\n",
    "        if not line:\n",
    "            break\n",
    "        user_id, csv_id, _, rating, _ = line.split(\",\")\n",
    "        \n",
    "        if user_id in overlap_users:\n",
    "            continue\n",
    "\n",
    "        try:\n",
    "            rating = int(rating)\n",
    "        except ValueError:\n",
    "            continue\n",
    "        \n",
    "        book_id = csv_book_mapping[csv_id]\n",
    "        \n",
    "        if book_id in liked_books and rating >= 4:\n",
    "                overlap_users.add(user_id)"
   ]
  },
  {
   "cell_type": "code",
   "execution_count": 7,
   "id": "70024bf5-5cbd-4d28-987b-dc1234371662",
   "metadata": {},
   "outputs": [],
   "source": [
    "rec_lines = []\n",
    "\n",
    "with open(\"interactions.csv\", 'r') as f:\n",
    "    while True:\n",
    "        line = f.readline()\n",
    "        if not line:\n",
    "            break\n",
    "        user_id, csv_id, _, rating, _ = line.split(\",\")\n",
    "        \n",
    "        if user_id in overlap_users:\n",
    "            book_id = csv_book_mapping[csv_id]\n",
    "            rec_lines.append([user_id, book_id, rating])"
   ]
  },
  {
   "cell_type": "code",
   "execution_count": 8,
   "id": "53acdd66-31e7-4945-a187-2a177aa2fc04",
   "metadata": {},
   "outputs": [],
   "source": [
    "import pandas as pd\n",
    "import matplotlib.pyplot as plt\n",
    "\n",
    "recs = pd.DataFrame(rec_lines, columns=[\"user_id\", \"book_id\", \"rating\"])\n",
    "# gr = recs[['book_id','rating']]\n",
    "gr = pd.DataFrame(recs.head(100))\n",
    "# gr.plot.scatter(x = \"book_id\", y = \"rating\")\n",
    "# plt.show()"
   ]
  },
  {
   "cell_type": "code",
   "execution_count": 9,
   "id": "c5852e71-8640-4370-9ef9-ed463b01a9e1",
   "metadata": {},
   "outputs": [],
   "source": [
    "# gr['book_id']=gr['book_id'].astype(float)\n",
    "# gr['user_id']=gr['user_id'].astype(float)\n",
    "# gr['rating']=gr['rating'].astype(float)"
   ]
  },
  {
   "cell_type": "code",
   "execution_count": 10,
   "id": "5eb6b35c-5481-446a-a367-b5316a431cf4",
   "metadata": {},
   "outputs": [
    {
     "data": {
      "image/png": "[encoded data removed]",
      "text/plain": [
       "<Figure size 432x288 with 1 Axes>"
      ]
     },
     "metadata": {
      "needs_background": "light"
     },
     "output_type": "display_data"
    },
    {
     "data": {
      "text/plain": [
       "<Figure size 3600x3600 with 0 Axes>"
      ]
     },
     "metadata": {},
     "output_type": "display_data"
    }
   ],
   "source": [
    "# x=gr['book_id']\n",
    "# y=gr['rating']\n",
    "from matplotlib.pyplot import figure\n",
    "gr_set = set(gr['user_id'])\n",
    "\n",
    "plt.figure()\n",
    "for user in gr_set:\n",
    "     selected_data = gr.loc[gr['user_id'] == user]\n",
    "     plt.plot(selected_data['book_id'], selected_data['rating'])\n",
    "\n",
    "figure(figsize=(50,50))     \n",
    "plt.show()\n",
    "# gr.plot(x, y, 'g', label='Line y')\n",
    "# gr[-15:].plot(x=['book_id'], y='rating', kind='multiline', figsize=(10,5), grid=True)"
   ]
  },
  {
   "cell_type": "code",
   "execution_count": 11,
   "id": "ffcab5e5-d69c-47ac-b0c8-62622a681339",
   "metadata": {},
   "outputs": [],
   "source": [
    "recs[\"book_id\"] = recs[\"book_id\"].astype(str)"
   ]
  },
  {
   "cell_type": "code",
   "execution_count": 12,
   "id": "23bb0e1e-95fd-4013-8e64-43a35ff6f1b1",
   "metadata": {},
   "outputs": [
    {
     "data": {
      "text/html": [
       "<div>\n",
       "<style scoped>\n",
       "    .dataframe tbody tr th:only-of-type {\n",
       "        vertical-align: middle;\n",
       "    }\n",
       "\n",
       "    .dataframe tbody tr th {\n",
       "        vertical-align: top;\n",
       "    }\n",
       "\n",
       "    .dataframe thead th {\n",
       "        text-align: right;\n",
       "    }\n",
       "</style>\n",
       "<table border=\"1\" class=\"dataframe\">\n",
       "  <thead>\n",
       "    <tr style=\"text-align: right;\">\n",
       "      <th></th>\n",
       "      <th>user_id</th>\n",
       "      <th>book_id</th>\n",
       "      <th>rating</th>\n",
       "    </tr>\n",
       "  </thead>\n",
       "  <tbody>\n",
       "    <tr>\n",
       "      <th>0</th>\n",
       "      <td>284</td>\n",
       "      <td>977284</td>\n",
       "      <td>3</td>\n",
       "    </tr>\n",
       "    <tr>\n",
       "      <th>1</th>\n",
       "      <td>284</td>\n",
       "      <td>890054</td>\n",
       "      <td>4</td>\n",
       "    </tr>\n",
       "    <tr>\n",
       "      <th>2</th>\n",
       "      <td>284</td>\n",
       "      <td>837153</td>\n",
       "      <td>3</td>\n",
       "    </tr>\n",
       "    <tr>\n",
       "      <th>3</th>\n",
       "      <td>284</td>\n",
       "      <td>1586480</td>\n",
       "      <td>4</td>\n",
       "    </tr>\n",
       "    <tr>\n",
       "      <th>4</th>\n",
       "      <td>284</td>\n",
       "      <td>41814</td>\n",
       "      <td>5</td>\n",
       "    </tr>\n",
       "    <tr>\n",
       "      <th>...</th>\n",
       "      <td>...</td>\n",
       "      <td>...</td>\n",
       "      <td>...</td>\n",
       "    </tr>\n",
       "    <tr>\n",
       "      <th>1530252</th>\n",
       "      <td>873216</td>\n",
       "      <td>127455</td>\n",
       "      <td>0</td>\n",
       "    </tr>\n",
       "    <tr>\n",
       "      <th>1530253</th>\n",
       "      <td>873216</td>\n",
       "      <td>10365343</td>\n",
       "      <td>0</td>\n",
       "    </tr>\n",
       "    <tr>\n",
       "      <th>1530254</th>\n",
       "      <td>873216</td>\n",
       "      <td>16131077</td>\n",
       "      <td>0</td>\n",
       "    </tr>\n",
       "    <tr>\n",
       "      <th>1530255</th>\n",
       "      <td>873216</td>\n",
       "      <td>18781576</td>\n",
       "      <td>0</td>\n",
       "    </tr>\n",
       "    <tr>\n",
       "      <th>1530256</th>\n",
       "      <td>873216</td>\n",
       "      <td>43615</td>\n",
       "      <td>0</td>\n",
       "    </tr>\n",
       "  </tbody>\n",
       "</table>\n",
       "<p>1530257 rows × 3 columns</p>\n",
       "</div>"
      ],
      "text/plain": [
       "        user_id   book_id rating\n",
       "0           284    977284      3\n",
       "1           284    890054      4\n",
       "2           284    837153      3\n",
       "3           284   1586480      4\n",
       "4           284     41814      5\n",
       "...         ...       ...    ...\n",
       "1530252  873216    127455      0\n",
       "1530253  873216  10365343      0\n",
       "1530254  873216  16131077      0\n",
       "1530255  873216  18781576      0\n",
       "1530256  873216     43615      0\n",
       "\n",
       "[1530257 rows x 3 columns]"
      ]
     },
     "execution_count": 12,
     "metadata": {},
     "output_type": "execute_result"
    }
   ],
   "source": [
    "recs"
   ]
  },
  {
   "cell_type": "code",
   "execution_count": 13,
   "id": "dcc6ff9d-dd9b-4dc5-b06a-159705f26426",
   "metadata": {},
   "outputs": [],
   "source": [
    "top_recs = recs[\"book_id\"].value_counts().head(10)"
   ]
  },
  {
   "cell_type": "code",
   "execution_count": 14,
   "id": "3b003647-bdb2-4489-bba8-13028d2f0f10",
   "metadata": {},
   "outputs": [],
   "source": [
    "top_recs = top_recs.index.values"
   ]
  },
  {
   "cell_type": "code",
   "execution_count": 15,
   "id": "0e7c8fd5-3fa1-4b11-99b8-e480778d4fc9",
   "metadata": {},
   "outputs": [],
   "source": [
    "books_titles = pd.read_json(\"books_titles.json\")\n",
    "books_titles[\"book_id\"] = books_titles[\"book_id\"].astype(str)"
   ]
  },
  {
   "cell_type": "code",
   "execution_count": 16,
   "id": "af899067-ed88-4840-b773-3e5198143006",
   "metadata": {},
   "outputs": [
    {
     "data": {
      "text/html": [
       "<style type=\"text/css\">\n",
       "</style>\n",
       "<table id=\"T_1e885\">\n",
       "  <thead>\n",
       "    <tr>\n",
       "      <th class=\"blank level0\" >&nbsp;</th>\n",
       "      <th id=\"T_1e885_level0_col0\" class=\"col_heading level0 col0\" >book_id</th>\n",
       "      <th id=\"T_1e885_level0_col1\" class=\"col_heading level0 col1\" >title</th>\n",
       "      <th id=\"T_1e885_level0_col2\" class=\"col_heading level0 col2\" >ratings</th>\n",
       "      <th id=\"T_1e885_level0_col3\" class=\"col_heading level0 col3\" >cover_image</th>\n",
       "      <th id=\"T_1e885_level0_col4\" class=\"col_heading level0 col4\" >mod_title</th>\n",
       "    </tr>\n",
       "  </thead>\n",
       "  <tbody>\n",
       "    <tr>\n",
       "      <th id=\"T_1e885_level0_row0\" class=\"row_heading level0 row0\" >53027</th>\n",
       "      <td id=\"T_1e885_row0_col0\" class=\"data row0 col0\" >77203</td>\n",
       "      <td id=\"T_1e885_row0_col1\" class=\"data row0 col1\" >The Kite Runner</td>\n",
       "      <td id=\"T_1e885_row0_col2\" class=\"data row0 col2\" >1848782</td>\n",
       "      <td id=\"T_1e885_row0_col3\" class=\"data row0 col3\" ><a href=\"https://images.gr-assets.com/books/1484565687m/77203.jpg\"><img src=\"https://images.gr-assets.com/books/1484565687m/77203.jpg\" width=50></img></a></td>\n",
       "      <td id=\"T_1e885_row0_col4\" class=\"data row0 col4\" >the kite runner</td>\n",
       "    </tr>\n",
       "    <tr>\n",
       "      <th id=\"T_1e885_level0_row1\" class=\"row_heading level0 row1\" >284473</th>\n",
       "      <td id=\"T_1e885_row1_col0\" class=\"data row1 col0\" >2767052</td>\n",
       "      <td id=\"T_1e885_row1_col1\" class=\"data row1 col1\" >The Hunger Games (The Hunger Games, #1)</td>\n",
       "      <td id=\"T_1e885_row1_col2\" class=\"data row1 col2\" >4899965</td>\n",
       "      <td id=\"T_1e885_row1_col3\" class=\"data row1 col3\" ><a href=\"https://images.gr-assets.com/books/1447303603m/2767052.jpg\"><img src=\"https://images.gr-assets.com/books/1447303603m/2767052.jpg\" width=50></img></a></td>\n",
       "      <td id=\"T_1e885_row1_col4\" class=\"data row1 col4\" >the hunger games the hunger games 1</td>\n",
       "    </tr>\n",
       "    <tr>\n",
       "      <th id=\"T_1e885_level0_row2\" class=\"row_heading level0 row2\" >401395</th>\n",
       "      <td id=\"T_1e885_row2_col0\" class=\"data row2 col0\" >5107</td>\n",
       "      <td id=\"T_1e885_row2_col1\" class=\"data row2 col1\" >The Catcher in the Rye</td>\n",
       "      <td id=\"T_1e885_row2_col2\" class=\"data row2 col2\" >2086945</td>\n",
       "      <td id=\"T_1e885_row2_col3\" class=\"data row2 col3\" ><a href=\"https://images.gr-assets.com/books/1398034300m/5107.jpg\"><img src=\"https://images.gr-assets.com/books/1398034300m/5107.jpg\" width=50></img></a></td>\n",
       "      <td id=\"T_1e885_row2_col4\" class=\"data row2 col4\" >the catcher in the rye</td>\n",
       "    </tr>\n",
       "    <tr>\n",
       "      <th id=\"T_1e885_level0_row3\" class=\"row_heading level0 row3\" >463463</th>\n",
       "      <td id=\"T_1e885_row3_col0\" class=\"data row3 col0\" >4671</td>\n",
       "      <td id=\"T_1e885_row3_col1\" class=\"data row3 col1\" >The Great Gatsby</td>\n",
       "      <td id=\"T_1e885_row3_col2\" class=\"data row3 col2\" >2758812</td>\n",
       "      <td id=\"T_1e885_row3_col3\" class=\"data row3 col3\" ><a href=\"https://images.gr-assets.com/books/1490528560m/4671.jpg\"><img src=\"https://images.gr-assets.com/books/1490528560m/4671.jpg\" width=50></img></a></td>\n",
       "      <td id=\"T_1e885_row3_col4\" class=\"data row3 col4\" >the great gatsby</td>\n",
       "    </tr>\n",
       "    <tr>\n",
       "      <th id=\"T_1e885_level0_row4\" class=\"row_heading level0 row4\" >615314</th>\n",
       "      <td id=\"T_1e885_row4_col0\" class=\"data row4 col0\" >5470</td>\n",
       "      <td id=\"T_1e885_row4_col1\" class=\"data row4 col1\" >1984</td>\n",
       "      <td id=\"T_1e885_row4_col2\" class=\"data row4 col2\" >2023937</td>\n",
       "      <td id=\"T_1e885_row4_col3\" class=\"data row4 col3\" ><a href=\"https://images.gr-assets.com/books/1348990566m/5470.jpg\"><img src=\"https://images.gr-assets.com/books/1348990566m/5470.jpg\" width=50></img></a></td>\n",
       "      <td id=\"T_1e885_row4_col4\" class=\"data row4 col4\" >1984</td>\n",
       "    </tr>\n",
       "    <tr>\n",
       "      <th id=\"T_1e885_level0_row5\" class=\"row_heading level0 row5\" >757376</th>\n",
       "      <td id=\"T_1e885_row5_col0\" class=\"data row5 col0\" >38447</td>\n",
       "      <td id=\"T_1e885_row5_col1\" class=\"data row5 col1\" >The Handmaid's Tale</td>\n",
       "      <td id=\"T_1e885_row5_col2\" class=\"data row5 col2\" >648783</td>\n",
       "      <td id=\"T_1e885_row5_col3\" class=\"data row5 col3\" ><a href=\"https://images.gr-assets.com/books/1498057733m/38447.jpg\"><img src=\"https://images.gr-assets.com/books/1498057733m/38447.jpg\" width=50></img></a></td>\n",
       "      <td id=\"T_1e885_row5_col4\" class=\"data row5 col4\" >the handmaids tale</td>\n",
       "    </tr>\n",
       "    <tr>\n",
       "      <th id=\"T_1e885_level0_row6\" class=\"row_heading level0 row6\" >790927</th>\n",
       "      <td id=\"T_1e885_row6_col0\" class=\"data row6 col0\" >2657</td>\n",
       "      <td id=\"T_1e885_row6_col1\" class=\"data row6 col1\" >To Kill a Mockingbird</td>\n",
       "      <td id=\"T_1e885_row6_col2\" class=\"data row6 col2\" >3255518</td>\n",
       "      <td id=\"T_1e885_row6_col3\" class=\"data row6 col3\" ><a href=\"https://images.gr-assets.com/books/1361975680m/2657.jpg\"><img src=\"https://images.gr-assets.com/books/1361975680m/2657.jpg\" width=50></img></a></td>\n",
       "      <td id=\"T_1e885_row6_col4\" class=\"data row6 col4\" >to kill a mockingbird</td>\n",
       "    </tr>\n",
       "    <tr>\n",
       "      <th id=\"T_1e885_level0_row7\" class=\"row_heading level0 row7\" >878151</th>\n",
       "      <td id=\"T_1e885_row7_col0\" class=\"data row7 col0\" >18143977</td>\n",
       "      <td id=\"T_1e885_row7_col1\" class=\"data row7 col1\" >All the Light We Cannot See</td>\n",
       "      <td id=\"T_1e885_row7_col2\" class=\"data row7 col2\" >498685</td>\n",
       "      <td id=\"T_1e885_row7_col3\" class=\"data row7 col3\" ><a href=\"https://images.gr-assets.com/books/1451445646m/18143977.jpg\"><img src=\"https://images.gr-assets.com/books/1451445646m/18143977.jpg\" width=50></img></a></td>\n",
       "      <td id=\"T_1e885_row7_col4\" class=\"data row7 col4\" >all the light we cannot see</td>\n",
       "    </tr>\n",
       "    <tr>\n",
       "      <th id=\"T_1e885_level0_row8\" class=\"row_heading level0 row8\" >878545</th>\n",
       "      <td id=\"T_1e885_row8_col0\" class=\"data row8 col0\" >3</td>\n",
       "      <td id=\"T_1e885_row8_col1\" class=\"data row8 col1\" >Harry Potter and the Sorcerer's Stone (Harry Potter, #1)</td>\n",
       "      <td id=\"T_1e885_row8_col2\" class=\"data row8 col2\" >4765497</td>\n",
       "      <td id=\"T_1e885_row8_col3\" class=\"data row8 col3\" ><a href=\"https://images.gr-assets.com/books/1474154022m/3.jpg\"><img src=\"https://images.gr-assets.com/books/1474154022m/3.jpg\" width=50></img></a></td>\n",
       "      <td id=\"T_1e885_row8_col4\" class=\"data row8 col4\" >harry potter and the sorcerers stone harry potter 1</td>\n",
       "    </tr>\n",
       "    <tr>\n",
       "      <th id=\"T_1e885_level0_row9\" class=\"row_heading level0 row9\" >1062354</th>\n",
       "      <td id=\"T_1e885_row9_col0\" class=\"data row9 col0\" >29983711</td>\n",
       "      <td id=\"T_1e885_row9_col1\" class=\"data row9 col1\" >Pachinko</td>\n",
       "      <td id=\"T_1e885_row9_col2\" class=\"data row9 col2\" >8161</td>\n",
       "      <td id=\"T_1e885_row9_col3\" class=\"data row9 col3\" ><a href=\"https://images.gr-assets.com/books/1462393298m/29983711.jpg\"><img src=\"https://images.gr-assets.com/books/1462393298m/29983711.jpg\" width=50></img></a></td>\n",
       "      <td id=\"T_1e885_row9_col4\" class=\"data row9 col4\" >pachinko</td>\n",
       "    </tr>\n",
       "  </tbody>\n",
       "</table>\n"
      ],
      "text/plain": [
       "<pandas.io.formats.style.Styler at 0x214ca87dc00>"
      ]
     },
     "execution_count": 16,
     "metadata": {},
     "output_type": "execute_result"
    }
   ],
   "source": [
    "books_titles[books_titles[\"book_id\"].isin(top_recs)].style.format({'cover_image': show_image})"
   ]
  },
  {
   "cell_type": "code",
   "execution_count": 17,
   "id": "04dd0df2-dad9-4cb8-a8f6-45b68bb994a1",
   "metadata": {},
   "outputs": [],
   "source": [
    "all_recs = recs[\"book_id\"].value_counts()"
   ]
  },
  {
   "cell_type": "code",
   "execution_count": 18,
   "id": "70594501-e068-4240-926e-a604a288cbff",
   "metadata": {},
   "outputs": [],
   "source": [
    "all_recs = all_recs.to_frame().reset_index()\n",
    "all_recs.columns = [\"book_id\", \"book_count\"]"
   ]
  },
  {
   "cell_type": "code",
   "execution_count": 19,
   "id": "1a602be3-521d-4405-a5fd-511d337b0e2f",
   "metadata": {},
   "outputs": [
    {
     "data": {
      "text/html": [
       "<div>\n",
       "<style scoped>\n",
       "    .dataframe tbody tr th:only-of-type {\n",
       "        vertical-align: middle;\n",
       "    }\n",
       "\n",
       "    .dataframe tbody tr th {\n",
       "        vertical-align: top;\n",
       "    }\n",
       "\n",
       "    .dataframe thead th {\n",
       "        text-align: right;\n",
       "    }\n",
       "</style>\n",
       "<table border=\"1\" class=\"dataframe\">\n",
       "  <thead>\n",
       "    <tr style=\"text-align: right;\">\n",
       "      <th></th>\n",
       "      <th>book_id</th>\n",
       "      <th>book_count</th>\n",
       "    </tr>\n",
       "  </thead>\n",
       "  <tbody>\n",
       "    <tr>\n",
       "      <th>0</th>\n",
       "      <td>2767052</td>\n",
       "      <td>1092</td>\n",
       "    </tr>\n",
       "    <tr>\n",
       "      <th>1</th>\n",
       "      <td>29983711</td>\n",
       "      <td>1089</td>\n",
       "    </tr>\n",
       "    <tr>\n",
       "      <th>2</th>\n",
       "      <td>2657</td>\n",
       "      <td>1074</td>\n",
       "    </tr>\n",
       "    <tr>\n",
       "      <th>3</th>\n",
       "      <td>3</td>\n",
       "      <td>1048</td>\n",
       "    </tr>\n",
       "    <tr>\n",
       "      <th>4</th>\n",
       "      <td>4671</td>\n",
       "      <td>1028</td>\n",
       "    </tr>\n",
       "  </tbody>\n",
       "</table>\n",
       "</div>"
      ],
      "text/plain": [
       "    book_id  book_count\n",
       "0   2767052        1092\n",
       "1  29983711        1089\n",
       "2      2657        1074\n",
       "3         3        1048\n",
       "4      4671        1028"
      ]
     },
     "execution_count": 19,
     "metadata": {},
     "output_type": "execute_result"
    }
   ],
   "source": [
    "all_recs.head(5)"
   ]
  },
  {
   "cell_type": "code",
   "execution_count": 20,
   "id": "e2c544b8-4262-45ce-9673-9da984b28d28",
   "metadata": {},
   "outputs": [],
   "source": [
    "all_recs = all_recs.merge(books_titles, how=\"inner\", on=\"book_id\")"
   ]
  },
  {
   "cell_type": "code",
   "execution_count": 21,
   "id": "c8e8f8b7-76ca-42bf-a9b4-1aa7fc7f3324",
   "metadata": {},
   "outputs": [],
   "source": [
    "all_recs[\"score\"] = all_recs[\"book_count\"] * (all_recs[\"book_count\"] / all_recs[\"ratings\"])"
   ]
  },
  {
   "cell_type": "code",
   "execution_count": 22,
   "id": "3614f28c-2c43-4e61-a123-b299852da915",
   "metadata": {},
   "outputs": [
    {
     "data": {
      "text/html": [
       "<style type=\"text/css\">\n",
       "</style>\n",
       "<table id=\"T_098f5\">\n",
       "  <thead>\n",
       "    <tr>\n",
       "      <th class=\"blank level0\" >&nbsp;</th>\n",
       "      <th id=\"T_098f5_level0_col0\" class=\"col_heading level0 col0\" >book_id</th>\n",
       "      <th id=\"T_098f5_level0_col1\" class=\"col_heading level0 col1\" >book_count</th>\n",
       "      <th id=\"T_098f5_level0_col2\" class=\"col_heading level0 col2\" >title</th>\n",
       "      <th id=\"T_098f5_level0_col3\" class=\"col_heading level0 col3\" >ratings</th>\n",
       "      <th id=\"T_098f5_level0_col4\" class=\"col_heading level0 col4\" >cover_image</th>\n",
       "      <th id=\"T_098f5_level0_col5\" class=\"col_heading level0 col5\" >mod_title</th>\n",
       "      <th id=\"T_098f5_level0_col6\" class=\"col_heading level0 col6\" >score</th>\n",
       "    </tr>\n",
       "  </thead>\n",
       "  <tbody>\n",
       "    <tr>\n",
       "      <th id=\"T_098f5_level0_row0\" class=\"row_heading level0 row0\" >1</th>\n",
       "      <td id=\"T_098f5_row0_col0\" class=\"data row0 col0\" >29983711</td>\n",
       "      <td id=\"T_098f5_row0_col1\" class=\"data row0 col1\" >1089</td>\n",
       "      <td id=\"T_098f5_row0_col2\" class=\"data row0 col2\" >Pachinko</td>\n",
       "      <td id=\"T_098f5_row0_col3\" class=\"data row0 col3\" >8161</td>\n",
       "      <td id=\"T_098f5_row0_col4\" class=\"data row0 col4\" ><a href=\"https://images.gr-assets.com/books/1462393298m/29983711.jpg\"><img src=\"https://images.gr-assets.com/books/1462393298m/29983711.jpg\" width=50></img></a></td>\n",
       "      <td id=\"T_098f5_row0_col5\" class=\"data row0 col5\" >pachinko</td>\n",
       "      <td id=\"T_098f5_row0_col6\" class=\"data row0 col6\" >145.315648</td>\n",
       "    </tr>\n",
       "    <tr>\n",
       "      <th id=\"T_098f5_level0_row1\" class=\"row_heading level0 row1\" >238</th>\n",
       "      <td id=\"T_098f5_row1_col0\" class=\"data row1 col0\" >4408</td>\n",
       "      <td id=\"T_098f5_row1_col1\" class=\"data row1 col1\" >327</td>\n",
       "      <td id=\"T_098f5_row1_col2\" class=\"data row1 col2\" >East of Eden</td>\n",
       "      <td id=\"T_098f5_row1_col3\" class=\"data row1 col3\" >3447</td>\n",
       "      <td id=\"T_098f5_row1_col4\" class=\"data row1 col4\" ><a href=\"https://images.gr-assets.com/books/1323882457m/4408.jpg\"><img src=\"https://images.gr-assets.com/books/1323882457m/4408.jpg\" width=50></img></a></td>\n",
       "      <td id=\"T_098f5_row1_col5\" class=\"data row1 col5\" >east of eden</td>\n",
       "      <td id=\"T_098f5_row1_col6\" class=\"data row1 col6\" >31.020888</td>\n",
       "    </tr>\n",
       "    <tr>\n",
       "      <th id=\"T_098f5_level0_row2\" class=\"row_heading level0 row2\" >724</th>\n",
       "      <td id=\"T_098f5_row2_col0\" class=\"data row2 col0\" >9317691</td>\n",
       "      <td id=\"T_098f5_row2_col1\" class=\"data row2 col1\" >175</td>\n",
       "      <td id=\"T_098f5_row2_col2\" class=\"data row2 col2\" >The Name of the Wind (The Kingkiller Chronicle, #1)</td>\n",
       "      <td id=\"T_098f5_row2_col3\" class=\"data row2 col3\" >1043</td>\n",
       "      <td id=\"T_098f5_row2_col4\" class=\"data row2 col4\" ><a href=\"https://images.gr-assets.com/books/1360558233m/9317691.jpg\"><img src=\"https://images.gr-assets.com/books/1360558233m/9317691.jpg\" width=50></img></a></td>\n",
       "      <td id=\"T_098f5_row2_col5\" class=\"data row2 col5\" >the name of the wind the kingkiller chronicle 1</td>\n",
       "      <td id=\"T_098f5_row2_col6\" class=\"data row2 col6\" >29.362416</td>\n",
       "    </tr>\n",
       "    <tr>\n",
       "      <th id=\"T_098f5_level0_row3\" class=\"row_heading level0 row3\" >236</th>\n",
       "      <td id=\"T_098f5_row3_col0\" class=\"data row3 col0\" >32920226</td>\n",
       "      <td id=\"T_098f5_row3_col1\" class=\"data row3 col1\" >328</td>\n",
       "      <td id=\"T_098f5_row3_col2\" class=\"data row3 col2\" >Sing, Unburied, Sing</td>\n",
       "      <td id=\"T_098f5_row3_col3\" class=\"data row3 col3\" >4592</td>\n",
       "      <td id=\"T_098f5_row3_col4\" class=\"data row3 col4\" ><a href=\"https://images.gr-assets.com/books/1499340866m/32920226.jpg\"><img src=\"https://images.gr-assets.com/books/1499340866m/32920226.jpg\" width=50></img></a></td>\n",
       "      <td id=\"T_098f5_row3_col5\" class=\"data row3 col5\" >sing unburied sing</td>\n",
       "      <td id=\"T_098f5_row3_col6\" class=\"data row3 col6\" >23.428571</td>\n",
       "    </tr>\n",
       "    <tr>\n",
       "      <th id=\"T_098f5_level0_row4\" class=\"row_heading level0 row4\" >216</th>\n",
       "      <td id=\"T_098f5_row4_col0\" class=\"data row4 col0\" >30753987</td>\n",
       "      <td id=\"T_098f5_row4_col1\" class=\"data row4 col1\" >342</td>\n",
       "      <td id=\"T_098f5_row4_col2\" class=\"data row4 col2\" >The Leavers</td>\n",
       "      <td id=\"T_098f5_row4_col3\" class=\"data row4 col3\" >5602</td>\n",
       "      <td id=\"T_098f5_row4_col4\" class=\"data row4 col4\" ><a href=\"https://images.gr-assets.com/books/1489158974m/30753987.jpg\"><img src=\"https://images.gr-assets.com/books/1489158974m/30753987.jpg\" width=50></img></a></td>\n",
       "      <td id=\"T_098f5_row4_col5\" class=\"data row4 col5\" >the leavers</td>\n",
       "      <td id=\"T_098f5_row4_col6\" class=\"data row4 col6\" >20.878972</td>\n",
       "    </tr>\n",
       "    <tr>\n",
       "      <th id=\"T_098f5_level0_row5\" class=\"row_heading level0 row5\" >7617</th>\n",
       "      <td id=\"T_098f5_row5_col0\" class=\"data row5 col0\" >26856502</td>\n",
       "      <td id=\"T_098f5_row5_col1\" class=\"data row5 col1\" >27</td>\n",
       "      <td id=\"T_098f5_row5_col2\" class=\"data row5 col2\" >Vengeful (Villains, #2)</td>\n",
       "      <td id=\"T_098f5_row5_col3\" class=\"data row5 col3\" >35</td>\n",
       "      <td id=\"T_098f5_row5_col4\" class=\"data row5 col4\" ><a href=\"https://s.gr-assets.com/assets/nophoto/book/111x148-bcc042a9c91a29c1d680899eff700a03.png\"><img src=\"https://s.gr-assets.com/assets/nophoto/book/111x148-bcc042a9c91a29c1d680899eff700a03.png\" width=50></img></a></td>\n",
       "      <td id=\"T_098f5_row5_col5\" class=\"data row5 col5\" >vengeful villains 2</td>\n",
       "      <td id=\"T_098f5_row5_col6\" class=\"data row5 col6\" >20.828571</td>\n",
       "    </tr>\n",
       "    <tr>\n",
       "      <th id=\"T_098f5_level0_row6\" class=\"row_heading level0 row6\" >1287</th>\n",
       "      <td id=\"T_098f5_row6_col0\" class=\"data row6 col0\" >31147619</td>\n",
       "      <td id=\"T_098f5_row6_col1\" class=\"data row6 col1\" >118</td>\n",
       "      <td id=\"T_098f5_row6_col2\" class=\"data row6 col2\" >Homegoing</td>\n",
       "      <td id=\"T_098f5_row6_col3\" class=\"data row6 col3\" >697</td>\n",
       "      <td id=\"T_098f5_row6_col4\" class=\"data row6 col4\" ><a href=\"https://images.gr-assets.com/books/1491119004m/31147619.jpg\"><img src=\"https://images.gr-assets.com/books/1491119004m/31147619.jpg\" width=50></img></a></td>\n",
       "      <td id=\"T_098f5_row6_col5\" class=\"data row6 col5\" >homegoing</td>\n",
       "      <td id=\"T_098f5_row6_col6\" class=\"data row6 col6\" >19.977044</td>\n",
       "    </tr>\n",
       "    <tr>\n",
       "      <th id=\"T_098f5_level0_row7\" class=\"row_heading level0 row7\" >5517</th>\n",
       "      <td id=\"T_098f5_row7_col0\" class=\"data row7 col0\" >34927828</td>\n",
       "      <td id=\"T_098f5_row7_col1\" class=\"data row7 col1\" >37</td>\n",
       "      <td id=\"T_098f5_row7_col2\" class=\"data row7 col2\" >The Great Alone</td>\n",
       "      <td id=\"T_098f5_row7_col3\" class=\"data row7 col3\" >70</td>\n",
       "      <td id=\"T_098f5_row7_col4\" class=\"data row7 col4\" ><a href=\"https://images.gr-assets.com/books/1501852384m/34927828.jpg\"><img src=\"https://images.gr-assets.com/books/1501852384m/34927828.jpg\" width=50></img></a></td>\n",
       "      <td id=\"T_098f5_row7_col5\" class=\"data row7 col5\" >the great alone</td>\n",
       "      <td id=\"T_098f5_row7_col6\" class=\"data row7 col6\" >19.557143</td>\n",
       "    </tr>\n",
       "    <tr>\n",
       "      <th id=\"T_098f5_level0_row8\" class=\"row_heading level0 row8\" >249</th>\n",
       "      <td id=\"T_098f5_row8_col0\" class=\"data row8 col0\" >8153988</td>\n",
       "      <td id=\"T_098f5_row8_col1\" class=\"data row8 col1\" >322</td>\n",
       "      <td id=\"T_098f5_row8_col2\" class=\"data row8 col2\" >The Eye of the World (Wheel of Time, #1)</td>\n",
       "      <td id=\"T_098f5_row8_col3\" class=\"data row8 col3\" >5740</td>\n",
       "      <td id=\"T_098f5_row8_col4\" class=\"data row8 col4\" ><a href=\"https://images.gr-assets.com/books/1465920672m/8153988.jpg\"><img src=\"https://images.gr-assets.com/books/1465920672m/8153988.jpg\" width=50></img></a></td>\n",
       "      <td id=\"T_098f5_row8_col5\" class=\"data row8 col5\" >the eye of the world wheel of time 1</td>\n",
       "      <td id=\"T_098f5_row8_col6\" class=\"data row8 col6\" >18.063415</td>\n",
       "    </tr>\n",
       "    <tr>\n",
       "      <th id=\"T_098f5_level0_row9\" class=\"row_heading level0 row9\" >6011</th>\n",
       "      <td id=\"T_098f5_row9_col0\" class=\"data row9 col0\" >35099035</td>\n",
       "      <td id=\"T_098f5_row9_col1\" class=\"data row9 col1\" >34</td>\n",
       "      <td id=\"T_098f5_row9_col2\" class=\"data row9 col2\" >Red Clocks</td>\n",
       "      <td id=\"T_098f5_row9_col3\" class=\"data row9 col3\" >67</td>\n",
       "      <td id=\"T_098f5_row9_col4\" class=\"data row9 col4\" ><a href=\"https://images.gr-assets.com/books/1494345016m/35099035.jpg\"><img src=\"https://images.gr-assets.com/books/1494345016m/35099035.jpg\" width=50></img></a></td>\n",
       "      <td id=\"T_098f5_row9_col5\" class=\"data row9 col5\" >red clocks</td>\n",
       "      <td id=\"T_098f5_row9_col6\" class=\"data row9 col6\" >17.253731</td>\n",
       "    </tr>\n",
       "  </tbody>\n",
       "</table>\n"
      ],
      "text/plain": [
       "<pandas.io.formats.style.Styler at 0x214ca87db70>"
      ]
     },
     "execution_count": 22,
     "metadata": {},
     "output_type": "execute_result"
    }
   ],
   "source": [
    "all_recs.sort_values(\"score\", ascending=False).head(10).style.format({'cover_image': show_image})"
   ]
  },
  {
   "cell_type": "code",
   "execution_count": 23,
   "id": "fc498eab-bee2-4ce3-b2ad-ee3c3699ff3d",
   "metadata": {},
   "outputs": [
    {
     "data": {
      "text/html": [
       "<style type=\"text/css\">\n",
       "</style>\n",
       "<table id=\"T_138e0\">\n",
       "  <thead>\n",
       "    <tr>\n",
       "      <th class=\"blank level0\" >&nbsp;</th>\n",
       "      <th id=\"T_138e0_level0_col0\" class=\"col_heading level0 col0\" >book_id</th>\n",
       "      <th id=\"T_138e0_level0_col1\" class=\"col_heading level0 col1\" >book_count</th>\n",
       "      <th id=\"T_138e0_level0_col2\" class=\"col_heading level0 col2\" >title</th>\n",
       "      <th id=\"T_138e0_level0_col3\" class=\"col_heading level0 col3\" >ratings</th>\n",
       "      <th id=\"T_138e0_level0_col4\" class=\"col_heading level0 col4\" >cover_image</th>\n",
       "      <th id=\"T_138e0_level0_col5\" class=\"col_heading level0 col5\" >mod_title</th>\n",
       "      <th id=\"T_138e0_level0_col6\" class=\"col_heading level0 col6\" >score</th>\n",
       "    </tr>\n",
       "  </thead>\n",
       "  <tbody>\n",
       "    <tr>\n",
       "      <th id=\"T_138e0_level0_row0\" class=\"row_heading level0 row0\" >1</th>\n",
       "      <td id=\"T_138e0_row0_col0\" class=\"data row0 col0\" >29983711</td>\n",
       "      <td id=\"T_138e0_row0_col1\" class=\"data row0 col1\" >1089</td>\n",
       "      <td id=\"T_138e0_row0_col2\" class=\"data row0 col2\" >Pachinko</td>\n",
       "      <td id=\"T_138e0_row0_col3\" class=\"data row0 col3\" >8161</td>\n",
       "      <td id=\"T_138e0_row0_col4\" class=\"data row0 col4\" ><a href=\"https://images.gr-assets.com/books/1462393298m/29983711.jpg\"><img src=\"https://images.gr-assets.com/books/1462393298m/29983711.jpg\" width=50></img></a></td>\n",
       "      <td id=\"T_138e0_row0_col5\" class=\"data row0 col5\" >pachinko</td>\n",
       "      <td id=\"T_138e0_row0_col6\" class=\"data row0 col6\" >145.315648</td>\n",
       "    </tr>\n",
       "    <tr>\n",
       "      <th id=\"T_138e0_level0_row1\" class=\"row_heading level0 row1\" >238</th>\n",
       "      <td id=\"T_138e0_row1_col0\" class=\"data row1 col0\" >4408</td>\n",
       "      <td id=\"T_138e0_row1_col1\" class=\"data row1 col1\" >327</td>\n",
       "      <td id=\"T_138e0_row1_col2\" class=\"data row1 col2\" >East of Eden</td>\n",
       "      <td id=\"T_138e0_row1_col3\" class=\"data row1 col3\" >3447</td>\n",
       "      <td id=\"T_138e0_row1_col4\" class=\"data row1 col4\" ><a href=\"https://images.gr-assets.com/books/1323882457m/4408.jpg\"><img src=\"https://images.gr-assets.com/books/1323882457m/4408.jpg\" width=50></img></a></td>\n",
       "      <td id=\"T_138e0_row1_col5\" class=\"data row1 col5\" >east of eden</td>\n",
       "      <td id=\"T_138e0_row1_col6\" class=\"data row1 col6\" >31.020888</td>\n",
       "    </tr>\n",
       "    <tr>\n",
       "      <th id=\"T_138e0_level0_row2\" class=\"row_heading level0 row2\" >236</th>\n",
       "      <td id=\"T_138e0_row2_col0\" class=\"data row2 col0\" >32920226</td>\n",
       "      <td id=\"T_138e0_row2_col1\" class=\"data row2 col1\" >328</td>\n",
       "      <td id=\"T_138e0_row2_col2\" class=\"data row2 col2\" >Sing, Unburied, Sing</td>\n",
       "      <td id=\"T_138e0_row2_col3\" class=\"data row2 col3\" >4592</td>\n",
       "      <td id=\"T_138e0_row2_col4\" class=\"data row2 col4\" ><a href=\"https://images.gr-assets.com/books/1499340866m/32920226.jpg\"><img src=\"https://images.gr-assets.com/books/1499340866m/32920226.jpg\" width=50></img></a></td>\n",
       "      <td id=\"T_138e0_row2_col5\" class=\"data row2 col5\" >sing unburied sing</td>\n",
       "      <td id=\"T_138e0_row2_col6\" class=\"data row2 col6\" >23.428571</td>\n",
       "    </tr>\n",
       "    <tr>\n",
       "      <th id=\"T_138e0_level0_row3\" class=\"row_heading level0 row3\" >216</th>\n",
       "      <td id=\"T_138e0_row3_col0\" class=\"data row3 col0\" >30753987</td>\n",
       "      <td id=\"T_138e0_row3_col1\" class=\"data row3 col1\" >342</td>\n",
       "      <td id=\"T_138e0_row3_col2\" class=\"data row3 col2\" >The Leavers</td>\n",
       "      <td id=\"T_138e0_row3_col3\" class=\"data row3 col3\" >5602</td>\n",
       "      <td id=\"T_138e0_row3_col4\" class=\"data row3 col4\" ><a href=\"https://images.gr-assets.com/books/1489158974m/30753987.jpg\"><img src=\"https://images.gr-assets.com/books/1489158974m/30753987.jpg\" width=50></img></a></td>\n",
       "      <td id=\"T_138e0_row3_col5\" class=\"data row3 col5\" >the leavers</td>\n",
       "      <td id=\"T_138e0_row3_col6\" class=\"data row3 col6\" >20.878972</td>\n",
       "    </tr>\n",
       "    <tr>\n",
       "      <th id=\"T_138e0_level0_row4\" class=\"row_heading level0 row4\" >249</th>\n",
       "      <td id=\"T_138e0_row4_col0\" class=\"data row4 col0\" >8153988</td>\n",
       "      <td id=\"T_138e0_row4_col1\" class=\"data row4 col1\" >322</td>\n",
       "      <td id=\"T_138e0_row4_col2\" class=\"data row4 col2\" >The Eye of the World (Wheel of Time, #1)</td>\n",
       "      <td id=\"T_138e0_row4_col3\" class=\"data row4 col3\" >5740</td>\n",
       "      <td id=\"T_138e0_row4_col4\" class=\"data row4 col4\" ><a href=\"https://images.gr-assets.com/books/1465920672m/8153988.jpg\"><img src=\"https://images.gr-assets.com/books/1465920672m/8153988.jpg\" width=50></img></a></td>\n",
       "      <td id=\"T_138e0_row4_col5\" class=\"data row4 col5\" >the eye of the world wheel of time 1</td>\n",
       "      <td id=\"T_138e0_row4_col6\" class=\"data row4 col6\" >18.063415</td>\n",
       "    </tr>\n",
       "    <tr>\n",
       "      <th id=\"T_138e0_level0_row5\" class=\"row_heading level0 row5\" >441</th>\n",
       "      <td id=\"T_138e0_row5_col0\" class=\"data row5 col0\" >33253215</td>\n",
       "      <td id=\"T_138e0_row5_col1\" class=\"data row5 col1\" >236</td>\n",
       "      <td id=\"T_138e0_row5_col2\" class=\"data row5 col2\" >The Heart's Invisible Furies</td>\n",
       "      <td id=\"T_138e0_row5_col3\" class=\"data row5 col3\" >3629</td>\n",
       "      <td id=\"T_138e0_row5_col4\" class=\"data row5 col4\" ><a href=\"https://images.gr-assets.com/books/1490803456m/33253215.jpg\"><img src=\"https://images.gr-assets.com/books/1490803456m/33253215.jpg\" width=50></img></a></td>\n",
       "      <td id=\"T_138e0_row5_col5\" class=\"data row5 col5\" >the hearts invisible furies</td>\n",
       "      <td id=\"T_138e0_row5_col6\" class=\"data row5 col6\" >15.347479</td>\n",
       "    </tr>\n",
       "    <tr>\n",
       "      <th id=\"T_138e0_level0_row6\" class=\"row_heading level0 row6\" >71</th>\n",
       "      <td id=\"T_138e0_row6_col0\" class=\"data row6 col0\" >30688435</td>\n",
       "      <td id=\"T_138e0_row6_col1\" class=\"data row6 col1\" >533</td>\n",
       "      <td id=\"T_138e0_row6_col2\" class=\"data row6 col2\" >Exit West</td>\n",
       "      <td id=\"T_138e0_row6_col3\" class=\"data row6 col3\" >21378</td>\n",
       "      <td id=\"T_138e0_row6_col4\" class=\"data row6 col4\" ><a href=\"https://images.gr-assets.com/books/1477324680m/30688435.jpg\"><img src=\"https://images.gr-assets.com/books/1477324680m/30688435.jpg\" width=50></img></a></td>\n",
       "      <td id=\"T_138e0_row6_col5\" class=\"data row6 col5\" >exit west</td>\n",
       "      <td id=\"T_138e0_row6_col6\" class=\"data row6 col6\" >13.288848</td>\n",
       "    </tr>\n",
       "    <tr>\n",
       "      <th id=\"T_138e0_level0_row7\" class=\"row_heading level0 row7\" >251</th>\n",
       "      <td id=\"T_138e0_row7_col0\" class=\"data row7 col0\" >32283423</td>\n",
       "      <td id=\"T_138e0_row7_col1\" class=\"data row7 col1\" >321</td>\n",
       "      <td id=\"T_138e0_row7_col2\" class=\"data row7 col2\" >American War</td>\n",
       "      <td id=\"T_138e0_row7_col3\" class=\"data row7 col3\" >7776</td>\n",
       "      <td id=\"T_138e0_row7_col4\" class=\"data row7 col4\" ><a href=\"https://images.gr-assets.com/books/1481494946m/32283423.jpg\"><img src=\"https://images.gr-assets.com/books/1481494946m/32283423.jpg\" width=50></img></a></td>\n",
       "      <td id=\"T_138e0_row7_col5\" class=\"data row7 col5\" >american war</td>\n",
       "      <td id=\"T_138e0_row7_col6\" class=\"data row7 col6\" >13.251157</td>\n",
       "    </tr>\n",
       "    <tr>\n",
       "      <th id=\"T_138e0_level0_row8\" class=\"row_heading level0 row8\" >228</th>\n",
       "      <td id=\"T_138e0_row8_col0\" class=\"data row8 col0\" >26025588</td>\n",
       "      <td id=\"T_138e0_row8_col1\" class=\"data row8 col1\" >335</td>\n",
       "      <td id=\"T_138e0_row8_col2\" class=\"data row8 col2\" >Behold the Dreamers</td>\n",
       "      <td id=\"T_138e0_row8_col3\" class=\"data row8 col3\" >8793</td>\n",
       "      <td id=\"T_138e0_row8_col4\" class=\"data row8 col4\" ><a href=\"https://images.gr-assets.com/books/1439643293m/26025588.jpg\"><img src=\"https://images.gr-assets.com/books/1439643293m/26025588.jpg\" width=50></img></a></td>\n",
       "      <td id=\"T_138e0_row8_col5\" class=\"data row8 col5\" >behold the dreamers</td>\n",
       "      <td id=\"T_138e0_row8_col6\" class=\"data row8 col6\" >12.762993</td>\n",
       "    </tr>\n",
       "    <tr>\n",
       "      <th id=\"T_138e0_level0_row9\" class=\"row_heading level0 row9\" >345</th>\n",
       "      <td id=\"T_138e0_row9_col0\" class=\"data row9 col0\" >17912498</td>\n",
       "      <td id=\"T_138e0_row9_col1\" class=\"data row9 col1\" >266</td>\n",
       "      <td id=\"T_138e0_row9_col2\" class=\"data row9 col2\" >The Queen of the Night</td>\n",
       "      <td id=\"T_138e0_row9_col3\" class=\"data row9 col3\" >6115</td>\n",
       "      <td id=\"T_138e0_row9_col4\" class=\"data row9 col4\" ><a href=\"https://images.gr-assets.com/books/1460425080m/17912498.jpg\"><img src=\"https://images.gr-assets.com/books/1460425080m/17912498.jpg\" width=50></img></a></td>\n",
       "      <td id=\"T_138e0_row9_col5\" class=\"data row9 col5\" >the queen of the night</td>\n",
       "      <td id=\"T_138e0_row9_col6\" class=\"data row9 col6\" >11.570891</td>\n",
       "    </tr>\n",
       "  </tbody>\n",
       "</table>\n"
      ],
      "text/plain": [
       "<pandas.io.formats.style.Styler at 0x215399eca30>"
      ]
     },
     "execution_count": 23,
     "metadata": {},
     "output_type": "execute_result"
    }
   ],
   "source": [
    "def show_image(val):\n",
    "    return '<a href=\"{}\"><img src=\"{}\" width=50></img></a>'.format(val, val)\n",
    "\n",
    "all_recs[all_recs[\"book_count\"] > 200].sort_values(\"score\", ascending=False).head(10).style.format({'cover_image': show_image})"
   ]
  },
  {
   "cell_type": "code",
   "execution_count": 24,
   "id": "5a6dc85e-f105-4ba9-9308-7a46cff59c0d",
   "metadata": {},
   "outputs": [],
   "source": [
    "popular_recs = all_recs[all_recs[\"book_count\"] > 200].sort_values(\"score\", ascending=False)"
   ]
  },
  {
   "cell_type": "code",
   "execution_count": 25,
   "id": "c2edf555-af3e-4b7b-b4cc-01ed53340791",
   "metadata": {},
   "outputs": [
    {
     "data": {
      "text/html": [
       "<style type=\"text/css\">\n",
       "</style>\n",
       "<table id=\"T_1ad86\">\n",
       "  <thead>\n",
       "    <tr>\n",
       "      <th class=\"blank level0\" >&nbsp;</th>\n",
       "      <th id=\"T_1ad86_level0_col0\" class=\"col_heading level0 col0\" >book_id</th>\n",
       "      <th id=\"T_1ad86_level0_col1\" class=\"col_heading level0 col1\" >book_count</th>\n",
       "      <th id=\"T_1ad86_level0_col2\" class=\"col_heading level0 col2\" >title</th>\n",
       "      <th id=\"T_1ad86_level0_col3\" class=\"col_heading level0 col3\" >ratings</th>\n",
       "      <th id=\"T_1ad86_level0_col4\" class=\"col_heading level0 col4\" >cover_image</th>\n",
       "      <th id=\"T_1ad86_level0_col5\" class=\"col_heading level0 col5\" >mod_title</th>\n",
       "      <th id=\"T_1ad86_level0_col6\" class=\"col_heading level0 col6\" >score</th>\n",
       "    </tr>\n",
       "  </thead>\n",
       "  <tbody>\n",
       "    <tr>\n",
       "      <th id=\"T_1ad86_level0_row0\" class=\"row_heading level0 row0\" >236</th>\n",
       "      <td id=\"T_1ad86_row0_col0\" class=\"data row0 col0\" >32920226</td>\n",
       "      <td id=\"T_1ad86_row0_col1\" class=\"data row0 col1\" >328</td>\n",
       "      <td id=\"T_1ad86_row0_col2\" class=\"data row0 col2\" >Sing, Unburied, Sing</td>\n",
       "      <td id=\"T_1ad86_row0_col3\" class=\"data row0 col3\" >4592</td>\n",
       "      <td id=\"T_1ad86_row0_col4\" class=\"data row0 col4\" ><a href=\"https://images.gr-assets.com/books/1499340866m/32920226.jpg\"><img src=\"https://images.gr-assets.com/books/1499340866m/32920226.jpg\" width=50></img></a></td>\n",
       "      <td id=\"T_1ad86_row0_col5\" class=\"data row0 col5\" >sing unburied sing</td>\n",
       "      <td id=\"T_1ad86_row0_col6\" class=\"data row0 col6\" >23.428571</td>\n",
       "    </tr>\n",
       "    <tr>\n",
       "      <th id=\"T_1ad86_level0_row1\" class=\"row_heading level0 row1\" >216</th>\n",
       "      <td id=\"T_1ad86_row1_col0\" class=\"data row1 col0\" >30753987</td>\n",
       "      <td id=\"T_1ad86_row1_col1\" class=\"data row1 col1\" >342</td>\n",
       "      <td id=\"T_1ad86_row1_col2\" class=\"data row1 col2\" >The Leavers</td>\n",
       "      <td id=\"T_1ad86_row1_col3\" class=\"data row1 col3\" >5602</td>\n",
       "      <td id=\"T_1ad86_row1_col4\" class=\"data row1 col4\" ><a href=\"https://images.gr-assets.com/books/1489158974m/30753987.jpg\"><img src=\"https://images.gr-assets.com/books/1489158974m/30753987.jpg\" width=50></img></a></td>\n",
       "      <td id=\"T_1ad86_row1_col5\" class=\"data row1 col5\" >the leavers</td>\n",
       "      <td id=\"T_1ad86_row1_col6\" class=\"data row1 col6\" >20.878972</td>\n",
       "    </tr>\n",
       "    <tr>\n",
       "      <th id=\"T_1ad86_level0_row2\" class=\"row_heading level0 row2\" >441</th>\n",
       "      <td id=\"T_1ad86_row2_col0\" class=\"data row2 col0\" >33253215</td>\n",
       "      <td id=\"T_1ad86_row2_col1\" class=\"data row2 col1\" >236</td>\n",
       "      <td id=\"T_1ad86_row2_col2\" class=\"data row2 col2\" >The Heart's Invisible Furies</td>\n",
       "      <td id=\"T_1ad86_row2_col3\" class=\"data row2 col3\" >3629</td>\n",
       "      <td id=\"T_1ad86_row2_col4\" class=\"data row2 col4\" ><a href=\"https://images.gr-assets.com/books/1490803456m/33253215.jpg\"><img src=\"https://images.gr-assets.com/books/1490803456m/33253215.jpg\" width=50></img></a></td>\n",
       "      <td id=\"T_1ad86_row2_col5\" class=\"data row2 col5\" >the hearts invisible furies</td>\n",
       "      <td id=\"T_1ad86_row2_col6\" class=\"data row2 col6\" >15.347479</td>\n",
       "    </tr>\n",
       "    <tr>\n",
       "      <th id=\"T_1ad86_level0_row3\" class=\"row_heading level0 row3\" >71</th>\n",
       "      <td id=\"T_1ad86_row3_col0\" class=\"data row3 col0\" >30688435</td>\n",
       "      <td id=\"T_1ad86_row3_col1\" class=\"data row3 col1\" >533</td>\n",
       "      <td id=\"T_1ad86_row3_col2\" class=\"data row3 col2\" >Exit West</td>\n",
       "      <td id=\"T_1ad86_row3_col3\" class=\"data row3 col3\" >21378</td>\n",
       "      <td id=\"T_1ad86_row3_col4\" class=\"data row3 col4\" ><a href=\"https://images.gr-assets.com/books/1477324680m/30688435.jpg\"><img src=\"https://images.gr-assets.com/books/1477324680m/30688435.jpg\" width=50></img></a></td>\n",
       "      <td id=\"T_1ad86_row3_col5\" class=\"data row3 col5\" >exit west</td>\n",
       "      <td id=\"T_1ad86_row3_col6\" class=\"data row3 col6\" >13.288848</td>\n",
       "    </tr>\n",
       "    <tr>\n",
       "      <th id=\"T_1ad86_level0_row4\" class=\"row_heading level0 row4\" >251</th>\n",
       "      <td id=\"T_1ad86_row4_col0\" class=\"data row4 col0\" >32283423</td>\n",
       "      <td id=\"T_1ad86_row4_col1\" class=\"data row4 col1\" >321</td>\n",
       "      <td id=\"T_1ad86_row4_col2\" class=\"data row4 col2\" >American War</td>\n",
       "      <td id=\"T_1ad86_row4_col3\" class=\"data row4 col3\" >7776</td>\n",
       "      <td id=\"T_1ad86_row4_col4\" class=\"data row4 col4\" ><a href=\"https://images.gr-assets.com/books/1481494946m/32283423.jpg\"><img src=\"https://images.gr-assets.com/books/1481494946m/32283423.jpg\" width=50></img></a></td>\n",
       "      <td id=\"T_1ad86_row4_col5\" class=\"data row4 col5\" >american war</td>\n",
       "      <td id=\"T_1ad86_row4_col6\" class=\"data row4 col6\" >13.251157</td>\n",
       "    </tr>\n",
       "    <tr>\n",
       "      <th id=\"T_1ad86_level0_row5\" class=\"row_heading level0 row5\" >228</th>\n",
       "      <td id=\"T_1ad86_row5_col0\" class=\"data row5 col0\" >26025588</td>\n",
       "      <td id=\"T_1ad86_row5_col1\" class=\"data row5 col1\" >335</td>\n",
       "      <td id=\"T_1ad86_row5_col2\" class=\"data row5 col2\" >Behold the Dreamers</td>\n",
       "      <td id=\"T_1ad86_row5_col3\" class=\"data row5 col3\" >8793</td>\n",
       "      <td id=\"T_1ad86_row5_col4\" class=\"data row5 col4\" ><a href=\"https://images.gr-assets.com/books/1439643293m/26025588.jpg\"><img src=\"https://images.gr-assets.com/books/1439643293m/26025588.jpg\" width=50></img></a></td>\n",
       "      <td id=\"T_1ad86_row5_col5\" class=\"data row5 col5\" >behold the dreamers</td>\n",
       "      <td id=\"T_1ad86_row5_col6\" class=\"data row5 col6\" >12.762993</td>\n",
       "    </tr>\n",
       "    <tr>\n",
       "      <th id=\"T_1ad86_level0_row6\" class=\"row_heading level0 row6\" >345</th>\n",
       "      <td id=\"T_1ad86_row6_col0\" class=\"data row6 col0\" >17912498</td>\n",
       "      <td id=\"T_1ad86_row6_col1\" class=\"data row6 col1\" >266</td>\n",
       "      <td id=\"T_1ad86_row6_col2\" class=\"data row6 col2\" >The Queen of the Night</td>\n",
       "      <td id=\"T_1ad86_row6_col3\" class=\"data row6 col3\" >6115</td>\n",
       "      <td id=\"T_1ad86_row6_col4\" class=\"data row6 col4\" ><a href=\"https://images.gr-assets.com/books/1460425080m/17912498.jpg\"><img src=\"https://images.gr-assets.com/books/1460425080m/17912498.jpg\" width=50></img></a></td>\n",
       "      <td id=\"T_1ad86_row6_col5\" class=\"data row6 col5\" >the queen of the night</td>\n",
       "      <td id=\"T_1ad86_row6_col6\" class=\"data row6 col6\" >11.570891</td>\n",
       "    </tr>\n",
       "    <tr>\n",
       "      <th id=\"T_1ad86_level0_row7\" class=\"row_heading level0 row7\" >325</th>\n",
       "      <td id=\"T_1ad86_row7_col0\" class=\"data row7 col0\" >28114515</td>\n",
       "      <td id=\"T_1ad86_row7_col1\" class=\"data row7 col1\" >276</td>\n",
       "      <td id=\"T_1ad86_row7_col2\" class=\"data row7 col2\" >The Wangs vs. the World</td>\n",
       "      <td id=\"T_1ad86_row7_col3\" class=\"data row7 col3\" >7044</td>\n",
       "      <td id=\"T_1ad86_row7_col4\" class=\"data row7 col4\" ><a href=\"https://images.gr-assets.com/books/1451493647m/28114515.jpg\"><img src=\"https://images.gr-assets.com/books/1451493647m/28114515.jpg\" width=50></img></a></td>\n",
       "      <td id=\"T_1ad86_row7_col5\" class=\"data row7 col5\" >the wangs vs the world</td>\n",
       "      <td id=\"T_1ad86_row7_col6\" class=\"data row7 col6\" >10.814310</td>\n",
       "    </tr>\n",
       "    <tr>\n",
       "      <th id=\"T_1ad86_level0_row8\" class=\"row_heading level0 row8\" >108</th>\n",
       "      <td id=\"T_1ad86_row8_col0\" class=\"data row8 col0\" >34273236</td>\n",
       "      <td id=\"T_1ad86_row8_col1\" class=\"data row8 col1\" >459</td>\n",
       "      <td id=\"T_1ad86_row8_col2\" class=\"data row8 col2\" >Little Fires Everywhere</td>\n",
       "      <td id=\"T_1ad86_row8_col3\" class=\"data row8 col3\" >21135</td>\n",
       "      <td id=\"T_1ad86_row8_col4\" class=\"data row8 col4\" ><a href=\"https://images.gr-assets.com/books/1490351351m/34273236.jpg\"><img src=\"https://images.gr-assets.com/books/1490351351m/34273236.jpg\" width=50></img></a></td>\n",
       "      <td id=\"T_1ad86_row8_col5\" class=\"data row8 col5\" >little fires everywhere</td>\n",
       "      <td id=\"T_1ad86_row8_col6\" class=\"data row8 col6\" >9.968346</td>\n",
       "    </tr>\n",
       "    <tr>\n",
       "      <th id=\"T_1ad86_level0_row9\" class=\"row_heading level0 row9\" >104</th>\n",
       "      <td id=\"T_1ad86_row9_col0\" class=\"data row9 col0\" >28815371</td>\n",
       "      <td id=\"T_1ad86_row9_col1\" class=\"data row9 col1\" >467</td>\n",
       "      <td id=\"T_1ad86_row9_col2\" class=\"data row9 col2\" >The Mothers</td>\n",
       "      <td id=\"T_1ad86_row9_col3\" class=\"data row9 col3\" >22346</td>\n",
       "      <td id=\"T_1ad86_row9_col4\" class=\"data row9 col4\" ><a href=\"https://images.gr-assets.com/books/1460652458m/28815371.jpg\"><img src=\"https://images.gr-assets.com/books/1460652458m/28815371.jpg\" width=50></img></a></td>\n",
       "      <td id=\"T_1ad86_row9_col5\" class=\"data row9 col5\" >the mothers</td>\n",
       "      <td id=\"T_1ad86_row9_col6\" class=\"data row9 col6\" >9.759644</td>\n",
       "    </tr>\n",
       "  </tbody>\n",
       "</table>\n"
      ],
      "text/plain": [
       "<pandas.io.formats.style.Styler at 0x215399eefb0>"
      ]
     },
     "execution_count": 25,
     "metadata": {},
     "output_type": "execute_result"
    }
   ],
   "source": [
    "def show_image(val):\n",
    "    return '<a href=\"{}\"><img src=\"{}\" width=50></img></a>'.format(val, val)\n",
    "\n",
    "\n",
    "popular_recs[~popular_recs[\"book_id\"].isin(liked_books)].head(10).style.format({'cover_image': show_image})"
   ]
  },
  {
   "cell_type": "code",
   "execution_count": 26,
   "id": "a3db776c-8317-46f6-83c9-1704abf5b83a",
   "metadata": {},
   "outputs": [
    {
     "data": {
      "text/plain": [
       "2029"
      ]
     },
     "execution_count": 26,
     "metadata": {},
     "output_type": "execute_result"
    }
   ],
   "source": [
    "len(overlap_users)"
   ]
  },
  {
   "cell_type": "code",
   "execution_count": 27,
   "id": "5e1e951f-700b-4f25-a29a-1e436b79759b",
   "metadata": {},
   "outputs": [
    {
     "data": {
      "text/plain": [
       "1530257"
      ]
     },
     "execution_count": 27,
     "metadata": {},
     "output_type": "execute_result"
    }
   ],
   "source": [
    "len(rec_lines)"
   ]
  },
  {
   "cell_type": "code",
   "execution_count": null,
   "id": "3059fd5b-3b86-406c-8f6f-88ef301b0d09",
   "metadata": {},
   "outputs": [],
   "source": []
  }
 ],
 "metadata": {
  "kernelspec": {
   "display_name": "Python 3 (ipykernel)",
   "language": "python",
   "name": "python3"
  },
  "language_info": {
   "codemirror_mode": {
    "name": "ipython",
    "version": 3
   },
   "file_extension": ".py",
   "mimetype": "text/x-python",
   "name": "python",
   "nbconvert_exporter": "python",
   "pygments_lexer": "ipython3",
   "version": "3.10.5"
  }
 },
 "nbformat": 4,
 "nbformat_minor": 5
}
