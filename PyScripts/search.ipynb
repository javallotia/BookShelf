{
 "cells": [
  {
   "cell_type": "code",
   "execution_count": 2,
   "id": "976366a0-9461-415e-8323-61af535e08a9",
   "metadata": {},
   "outputs": [],
   "source": [
    "import gzip\n",
    "\n",
    "with gzip.open(\"books.json.gz\") as f:\n",
    "    line = f.readline()"
   ]
  },
  {
   "cell_type": "code",
   "execution_count": 3,
   "id": "9443b83f-2939-4682-996a-75a680ac5a51",
   "metadata": {},
   "outputs": [
    {
     "data": {
      "text/plain": [
       "('5333265',\n",
       " 'W.C. Fields: A Life on Film',\n",
       " '3',\n",
       " [{'author_id': '604031', 'role': ''}],\n",
       " [{'count': '3', 'name': 'to-read'},\n",
       "  {'count': '1', 'name': 'p'},\n",
       "  {'count': '1', 'name': 'collection'},\n",
       "  {'count': '1', 'name': 'w-c-fields'},\n",
       "  {'count': '1', 'name': 'biography'}])"
      ]
     },
     "execution_count": 3,
     "metadata": {},
     "output_type": "execute_result"
    }
   ],
   "source": [
    "import json\n",
    "\n",
    "data = json.loads(line)\n",
    "data[\"book_id\"],data[\"title\"],data[\"ratings_count\"],data[\"authors\"],data[\"popular_shelves\"]"
   ]
  },
  {
   "cell_type": "code",
   "execution_count": 4,
   "id": "f81923ec-c6ad-4101-8443-ab816a17c49a",
   "metadata": {},
   "outputs": [],
   "source": [
    "def parse_fields(line):\n",
    "    data = json.loads(line)\n",
    "    return {\n",
    "        \"book_id\": data[\"book_id\"], \n",
    "        \"title\": data[\"title_without_series\"], \n",
    "        \"ratings\": data[\"ratings_count\"],  \n",
    "        \"cover_image\": data[\"image_url\"],\n",
    "    }"
   ]
  },
  {
   "cell_type": "code",
   "execution_count": 5,
   "id": "2e6d819d-78d3-4c50-abd0-639ca4e9cc80",
   "metadata": {},
   "outputs": [],
   "source": [
    "books_titles = []\n",
    "with gzip.open(\"books.json.gz\") as f:\n",
    "    while True:\n",
    "        line = f.readline()\n",
    "        if not line:\n",
    "            break\n",
    "        fields = parse_fields(line)\n",
    "        try:\n",
    "            ratings = int(fields[\"ratings\"])\n",
    "        except ValueError:\n",
    "            continue\n",
    "        if ratings > 15:\n",
    "            books_titles.append(fields)"
   ]
  },
  {
   "cell_type": "code",
   "execution_count": 6,
   "id": "191c139d-85df-4e9e-becc-7e0e0d708b22",
   "metadata": {},
   "outputs": [],
   "source": [
    "import pandas as pd\n",
    "\n",
    "titles = pd.DataFrame.from_dict(books_titles)"
   ]
  },
  {
   "cell_type": "code",
   "execution_count": 7,
   "id": "939e4add-1042-4f92-a5fe-c8ccc3c4f633",
   "metadata": {},
   "outputs": [],
   "source": [
    "titles[\"ratings\"] = pd.to_numeric(titles[\"ratings\"])"
   ]
  },
  {
   "cell_type": "code",
   "execution_count": 8,
   "id": "c16b3c25-d9a1-4f2f-8a27-3ae31b1cb1d5",
   "metadata": {},
   "outputs": [],
   "source": [
    "titles[\"mod_title\"] = titles[\"title\"].str.replace(\"[^a-zA-Z0-9 ]\", \"\", regex=True)"
   ]
  },
  {
   "cell_type": "code",
   "execution_count": 9,
   "id": "df9b457e-8345-42bc-8d69-8edc40728fe7",
   "metadata": {},
   "outputs": [],
   "source": [
    "titles[\"mod_title\"] = titles[\"mod_title\"].str.lower()"
   ]
  },
  {
   "cell_type": "code",
   "execution_count": 10,
   "id": "eaab9f95-c08b-4ba1-b282-98dc7340c3e8",
   "metadata": {},
   "outputs": [],
   "source": [
    "titles[\"mod_title\"] = titles[\"mod_title\"].str.replace(\"\\s+\", \" \", regex=True)"
   ]
  },
  {
   "cell_type": "code",
   "execution_count": 11,
   "id": "0557576d-03d6-44d6-9786-2ab6ad739fa4",
   "metadata": {},
   "outputs": [],
   "source": [
    "titles = titles[titles[\"mod_title\"].str.len() > 0]"
   ]
  },
  {
   "cell_type": "code",
   "execution_count": 12,
   "id": "c88adb2b-b3fe-426c-881e-ec591493c97c",
   "metadata": {},
   "outputs": [],
   "source": [
    "titles.to_json(\"books_titles.json\")"
   ]
  },
  {
   "cell_type": "code",
   "execution_count": 13,
   "id": "aabed4ef-b35f-49de-8f2d-8e6e2e0c1c35",
   "metadata": {},
   "outputs": [],
   "source": [
    "from sklearn.feature_extraction.text import TfidfVectorizer\n",
    "vectorizer = TfidfVectorizer()\n",
    "\n",
    "tfidf = vectorizer.fit_transform(titles[\"mod_title\"])"
   ]
  },
  {
   "cell_type": "code",
   "execution_count": 14,
   "id": "578d93bc-d4c1-480a-9e68-607cd305bf3c",
   "metadata": {},
   "outputs": [],
   "source": [
    "from sklearn.metrics.pairwise import cosine_similarity\n",
    "import numpy as np\n",
    "import re\n",
    "\n",
    "def show_image(val):\n",
    "    return '<a href=\"{}\"><img src=\"{}\" width=50></img></a>'.format(val, val)\n",
    "\n",
    "def search(query,vectorizer):\n",
    "    processed = re.sub(\"[^a-zA-Z0-9 ]\", \"\", query.lower())\n",
    "    query_vec = vectorizer.transform([query])\n",
    "    similarity = cosine_similarity(query_vec, tfidf).flatten()\n",
    "    indices = np.argpartition(similarity, -10)[-10:]\n",
    "    results = titles.iloc[indices]\n",
    "    results = results.sort_values(\"ratings\", ascending=False)\n",
    "    \n",
    "    return results.head(5).style.format({'cover_image': show_image})"
   ]
  },
  {
   "cell_type": "code",
   "execution_count": 18,
   "id": "76922701-138a-4b34-bc45-93c1ddeb32a5",
   "metadata": {},
   "outputs": [
    {
     "data": {
      "text/html": [
       "<style type=\"text/css\">\n",
       "</style>\n",
       "<table id=\"T_600d7\">\n",
       "  <thead>\n",
       "    <tr>\n",
       "      <th class=\"blank level0\" >&nbsp;</th>\n",
       "      <th id=\"T_600d7_level0_col0\" class=\"col_heading level0 col0\" >book_id</th>\n",
       "      <th id=\"T_600d7_level0_col1\" class=\"col_heading level0 col1\" >title</th>\n",
       "      <th id=\"T_600d7_level0_col2\" class=\"col_heading level0 col2\" >ratings</th>\n",
       "      <th id=\"T_600d7_level0_col3\" class=\"col_heading level0 col3\" >cover_image</th>\n",
       "      <th id=\"T_600d7_level0_col4\" class=\"col_heading level0 col4\" >mod_title</th>\n",
       "    </tr>\n",
       "  </thead>\n",
       "  <tbody>\n",
       "    <tr>\n",
       "      <th id=\"T_600d7_level0_row0\" class=\"row_heading level0 row0\" >129532</th>\n",
       "      <td id=\"T_600d7_row0_col0\" class=\"data row0 col0\" >7809996</td>\n",
       "      <td id=\"T_600d7_row0_col1\" class=\"data row0 col1\" >هاري بوتر وحجرة الأسرار (Harry Potter, #2)</td>\n",
       "      <td id=\"T_600d7_row0_col2\" class=\"data row0 col2\" >1117</td>\n",
       "      <td id=\"T_600d7_row0_col3\" class=\"data row0 col3\" ><a href=\"https://s.gr-assets.com/assets/nophoto/book/111x148-bcc042a9c91a29c1d680899eff700a03.png\"><img src=\"https://s.gr-assets.com/assets/nophoto/book/111x148-bcc042a9c91a29c1d680899eff700a03.png\" width=50></img></a></td>\n",
       "      <td id=\"T_600d7_row0_col4\" class=\"data row0 col4\" > harry potter 2</td>\n",
       "    </tr>\n",
       "    <tr>\n",
       "      <th id=\"T_600d7_level0_row1\" class=\"row_heading level0 row1\" >1044938</th>\n",
       "      <td id=\"T_600d7_row1_col0\" class=\"data row1 col0\" >49869</td>\n",
       "      <td id=\"T_600d7_row1_col1\" class=\"data row1 col1\" >هاري بوتر وسجين أزكابان (Harry Potter, #3)</td>\n",
       "      <td id=\"T_600d7_row1_col2\" class=\"data row1 col2\" >1023</td>\n",
       "      <td id=\"T_600d7_row1_col3\" class=\"data row1 col3\" ><a href=\"https://images.gr-assets.com/books/1329651788m/49869.jpg\"><img src=\"https://images.gr-assets.com/books/1329651788m/49869.jpg\" width=50></img></a></td>\n",
       "      <td id=\"T_600d7_row1_col4\" class=\"data row1 col4\" > harry potter 3</td>\n",
       "    </tr>\n",
       "    <tr>\n",
       "      <th id=\"T_600d7_level0_row2\" class=\"row_heading level0 row2\" >19737</th>\n",
       "      <td id=\"T_600d7_row2_col0\" class=\"data row2 col0\" >49839</td>\n",
       "      <td id=\"T_600d7_row2_col1\" class=\"data row2 col1\" >هاري بوتر وكأس النار (Harry Potter, #4)</td>\n",
       "      <td id=\"T_600d7_row2_col2\" class=\"data row2 col2\" >957</td>\n",
       "      <td id=\"T_600d7_row2_col3\" class=\"data row2 col3\" ><a href=\"https://images.gr-assets.com/books/1312417199m/49839.jpg\"><img src=\"https://images.gr-assets.com/books/1312417199m/49839.jpg\" width=50></img></a></td>\n",
       "      <td id=\"T_600d7_row2_col4\" class=\"data row2 col4\" > harry potter 4</td>\n",
       "    </tr>\n",
       "    <tr>\n",
       "      <th id=\"T_600d7_level0_row3\" class=\"row_heading level0 row3\" >903847</th>\n",
       "      <td id=\"T_600d7_row3_col0\" class=\"data row3 col0\" >70355</td>\n",
       "      <td id=\"T_600d7_row3_col1\" class=\"data row3 col1\" >هاري بوتر وجماعة العنقاء (Harry Potter, #5)</td>\n",
       "      <td id=\"T_600d7_row3_col2\" class=\"data row3 col2\" >955</td>\n",
       "      <td id=\"T_600d7_row3_col3\" class=\"data row3 col3\" ><a href=\"https://images.gr-assets.com/books/1351790790m/70355.jpg\"><img src=\"https://images.gr-assets.com/books/1351790790m/70355.jpg\" width=50></img></a></td>\n",
       "      <td id=\"T_600d7_row3_col4\" class=\"data row3 col4\" > harry potter 5</td>\n",
       "    </tr>\n",
       "    <tr>\n",
       "      <th id=\"T_600d7_level0_row4\" class=\"row_heading level0 row4\" >138743</th>\n",
       "      <td id=\"T_600d7_row4_col0\" class=\"data row4 col0\" >14560521</td>\n",
       "      <td id=\"T_600d7_row4_col1\" class=\"data row4 col1\" >הארי פוטר והאסיר מאזקבאן (Harry Potter, #3)</td>\n",
       "      <td id=\"T_600d7_row4_col2\" class=\"data row4 col2\" >36</td>\n",
       "      <td id=\"T_600d7_row4_col3\" class=\"data row4 col3\" ><a href=\"https://images.gr-assets.com/books/1349261442m/14560521.jpg\"><img src=\"https://images.gr-assets.com/books/1349261442m/14560521.jpg\" width=50></img></a></td>\n",
       "      <td id=\"T_600d7_row4_col4\" class=\"data row4 col4\" > harry potter 3</td>\n",
       "    </tr>\n",
       "  </tbody>\n",
       "</table>\n"
      ],
      "text/plain": [
       "<pandas.io.formats.style.Styler at 0x16b83e17340>"
      ]
     },
     "execution_count": 18,
     "metadata": {},
     "output_type": "execute_result"
    }
   ],
   "source": [
    "search(\"harry potter\", vectorizer)"
   ]
  },
  {
   "cell_type": "code",
   "execution_count": null,
   "id": "a0826410-f3dc-461b-90b9-946e36d20b62",
   "metadata": {},
   "outputs": [],
   "source": []
  }
 ],
 "metadata": {
  "kernelspec": {
   "display_name": "Python 3 (ipykernel)",
   "language": "python",
   "name": "python3"
  },
  "language_info": {
   "codemirror_mode": {
    "name": "ipython",
    "version": 3
   },
   "file_extension": ".py",
   "mimetype": "text/x-python",
   "name": "python",
   "nbconvert_exporter": "python",
   "pygments_lexer": "ipython3",
   "version": "3.10.5"
  }
 },
 "nbformat": 4,
 "nbformat_minor": 5
}
